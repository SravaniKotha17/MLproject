{
 "cells": [
  {
   "cell_type": "markdown",
   "metadata": {},
   "source": [
    "### importing all Liabrary"
   ]
  },
  {
   "cell_type": "code",
   "execution_count": 1,
   "metadata": {},
   "outputs": [],
   "source": [
    "import numpy as np\n",
    "import pandas as pd\n",
    "import seaborn as sns \n",
    "import matplotlib.pyplot as plt\n",
    "import pickle\n",
    "\n",
    "from sklearn.preprocessing import StandardScaler\n",
    "from sklearn.model_selection import train_test_split\n",
    "from sklearn.metrics import accuracy_score, precision_score, recall_score, f1_score, confusion_matrix\n",
    "from imblearn.over_sampling import SMOTE\n",
    "\n",
    "from sklearn.discriminant_analysis import LinearDiscriminantAnalysis\n",
    "from sklearn.tree import DecisionTreeClassifier\n",
    "from sklearn.naive_bayes import GaussianNB\n",
    "\n",
    "import tensorflow as tf\n",
    "from tensorflow.keras.models import Sequential\n",
    "from tensorflow.keras.layers import Dense\n",
    "from keras.optimizers import Adam"
   ]
  },
  {
   "cell_type": "code",
   "execution_count": 2,
   "metadata": {},
   "outputs": [],
   "source": [
    "# Read the csv file and create Data Frame \n",
    "df=pd.read_excel(r'Privacy_Peserving.xlsx')\n"
   ]
  },
  {
   "cell_type": "markdown",
   "metadata": {},
   "source": [
    "### EDA"
   ]
  },
  {
   "cell_type": "code",
   "execution_count": 3,
   "metadata": {},
   "outputs": [
    {
     "data": {
      "text/html": [
       "<div>\n",
       "<style scoped>\n",
       "    .dataframe tbody tr th:only-of-type {\n",
       "        vertical-align: middle;\n",
       "    }\n",
       "\n",
       "    .dataframe tbody tr th {\n",
       "        vertical-align: top;\n",
       "    }\n",
       "\n",
       "    .dataframe thead th {\n",
       "        text-align: right;\n",
       "    }\n",
       "</style>\n",
       "<table border=\"1\" class=\"dataframe\">\n",
       "  <thead>\n",
       "    <tr style=\"text-align: right;\">\n",
       "      <th></th>\n",
       "      <th>activity_description</th>\n",
       "      <th>label</th>\n",
       "    </tr>\n",
       "  </thead>\n",
       "  <tbody>\n",
       "    <tr>\n",
       "      <th>0</th>\n",
       "      <td>Watching Khan Academy math tutorial</td>\n",
       "      <td>Utilizing Time for Knowledge Development</td>\n",
       "    </tr>\n",
       "    <tr>\n",
       "      <th>1</th>\n",
       "      <td>Reviewing course lecture slides</td>\n",
       "      <td>Utilizing Time for Knowledge Development</td>\n",
       "    </tr>\n",
       "    <tr>\n",
       "      <th>2</th>\n",
       "      <td>Playing a video game</td>\n",
       "      <td>Wasting Time</td>\n",
       "    </tr>\n",
       "    <tr>\n",
       "      <th>3</th>\n",
       "      <td>Watching TV shows</td>\n",
       "      <td>Wasting Time</td>\n",
       "    </tr>\n",
       "    <tr>\n",
       "      <th>4</th>\n",
       "      <td>Taking notes from a lecture video</td>\n",
       "      <td>Utilizing Time for Knowledge Development</td>\n",
       "    </tr>\n",
       "  </tbody>\n",
       "</table>\n",
       "</div>"
      ],
      "text/plain": [
       "                  activity_description  \\\n",
       "0  Watching Khan Academy math tutorial   \n",
       "1      Reviewing course lecture slides   \n",
       "2                 Playing a video game   \n",
       "3                    Watching TV shows   \n",
       "4    Taking notes from a lecture video   \n",
       "\n",
       "                                      label  \n",
       "0  Utilizing Time for Knowledge Development  \n",
       "1  Utilizing Time for Knowledge Development  \n",
       "2                              Wasting Time  \n",
       "3                              Wasting Time  \n",
       "4  Utilizing Time for Knowledge Development  "
      ]
     },
     "execution_count": 3,
     "metadata": {},
     "output_type": "execute_result"
    }
   ],
   "source": [
    "# view the top 5 rows\n",
    "df.head()"
   ]
  },
  {
   "cell_type": "code",
   "execution_count": 4,
   "metadata": {},
   "outputs": [
    {
     "data": {
      "text/html": [
       "<div>\n",
       "<style scoped>\n",
       "    .dataframe tbody tr th:only-of-type {\n",
       "        vertical-align: middle;\n",
       "    }\n",
       "\n",
       "    .dataframe tbody tr th {\n",
       "        vertical-align: top;\n",
       "    }\n",
       "\n",
       "    .dataframe thead th {\n",
       "        text-align: right;\n",
       "    }\n",
       "</style>\n",
       "<table border=\"1\" class=\"dataframe\">\n",
       "  <thead>\n",
       "    <tr style=\"text-align: right;\">\n",
       "      <th></th>\n",
       "      <th>activity_description</th>\n",
       "      <th>label</th>\n",
       "    </tr>\n",
       "  </thead>\n",
       "  <tbody>\n",
       "    <tr>\n",
       "      <th>4996</th>\n",
       "      <td>Writing an essay for a class assignment</td>\n",
       "      <td>Utilizing Time for Knowledge Development</td>\n",
       "    </tr>\n",
       "    <tr>\n",
       "      <th>4997</th>\n",
       "      <td>Scrolling through social media feeds</td>\n",
       "      <td>Wasting Time</td>\n",
       "    </tr>\n",
       "    <tr>\n",
       "      <th>4998</th>\n",
       "      <td>Chatting with friends on messaging apps</td>\n",
       "      <td>Wasting Time</td>\n",
       "    </tr>\n",
       "    <tr>\n",
       "      <th>4999</th>\n",
       "      <td>Writing an essay for a class assignment</td>\n",
       "      <td>Utilizing Time for Knowledge Development</td>\n",
       "    </tr>\n",
       "    <tr>\n",
       "      <th>5000</th>\n",
       "      <td>Scrolling through social media feeds</td>\n",
       "      <td>Wasting Time</td>\n",
       "    </tr>\n",
       "  </tbody>\n",
       "</table>\n",
       "</div>"
      ],
      "text/plain": [
       "                         activity_description  \\\n",
       "4996  Writing an essay for a class assignment   \n",
       "4997     Scrolling through social media feeds   \n",
       "4998  Chatting with friends on messaging apps   \n",
       "4999  Writing an essay for a class assignment   \n",
       "5000     Scrolling through social media feeds   \n",
       "\n",
       "                                         label  \n",
       "4996  Utilizing Time for Knowledge Development  \n",
       "4997                              Wasting Time  \n",
       "4998                              Wasting Time  \n",
       "4999  Utilizing Time for Knowledge Development  \n",
       "5000                              Wasting Time  "
      ]
     },
     "execution_count": 4,
     "metadata": {},
     "output_type": "execute_result"
    }
   ],
   "source": [
    "# view the last 5 rows\n",
    "df.tail()"
   ]
  },
  {
   "cell_type": "code",
   "execution_count": 5,
   "metadata": {},
   "outputs": [
    {
     "name": "stdout",
     "output_type": "stream",
     "text": [
      "<class 'pandas.core.frame.DataFrame'>\n",
      "RangeIndex: 5001 entries, 0 to 5000\n",
      "Data columns (total 2 columns):\n",
      " #   Column                Non-Null Count  Dtype \n",
      "---  ------                --------------  ----- \n",
      " 0   activity_description  5001 non-null   object\n",
      " 1   label                 4715 non-null   object\n",
      "dtypes: object(2)\n",
      "memory usage: 78.3+ KB\n"
     ]
    }
   ],
   "source": [
    "# Cheking the Information of each columns like Data type.\n",
    "df.info()"
   ]
  },
  {
   "cell_type": "code",
   "execution_count": 6,
   "metadata": {},
   "outputs": [
    {
     "data": {
      "text/plain": [
       "activity_description      0\n",
       "label                   286\n",
       "dtype: int64"
      ]
     },
     "execution_count": 6,
     "metadata": {},
     "output_type": "execute_result"
    }
   ],
   "source": [
    "# Cheking the null value in dataset\n",
    "df.isna().sum()"
   ]
  },
  {
   "cell_type": "code",
   "execution_count": 7,
   "metadata": {},
   "outputs": [
    {
     "data": {
      "text/plain": [
       "(5001, 2)"
      ]
     },
     "execution_count": 7,
     "metadata": {},
     "output_type": "execute_result"
    }
   ],
   "source": [
    "# Cheking the Data Set shape (Rows, columns)\n",
    "df.shape"
   ]
  },
  {
   "cell_type": "code",
   "execution_count": 8,
   "metadata": {},
   "outputs": [
    {
     "data": {
      "text/plain": [
       "Index(['activity_description', 'label'], dtype='object')"
      ]
     },
     "execution_count": 8,
     "metadata": {},
     "output_type": "execute_result"
    }
   ],
   "source": [
    "# cheking columns name in data set\n",
    "df.columns"
   ]
  },
  {
   "cell_type": "code",
   "execution_count": 9,
   "metadata": {},
   "outputs": [
    {
     "data": {
      "text/plain": [
       "{'Wasting Time': 2392, 'Utilizing Time for Knowledge Development': 2323}"
      ]
     },
     "execution_count": 9,
     "metadata": {},
     "output_type": "execute_result"
    }
   ],
   "source": [
    "# cheking types of data present in specific columns \n",
    "df['label'].value_counts().to_dict()"
   ]
  },
  {
   "cell_type": "code",
   "execution_count": 10,
   "metadata": {},
   "outputs": [],
   "source": [
    "# Replace that Categorical data into integer data.\n",
    "df['label'].replace({'Utilizing Time for Knowledge Development': 0, 'Wasting Time': 1},inplace=True)"
   ]
  },
  {
   "cell_type": "code",
   "execution_count": 11,
   "metadata": {},
   "outputs": [
    {
     "data": {
      "text/plain": [
       "{'Playing a video game': 692,\n",
       " 'Taking notes from a lecture video': 629,\n",
       " 'Writing an essay for a class assignment': 583,\n",
       " 'Watching cat videos on YouTube': 359,\n",
       " 'Coding a personal project': 342,\n",
       " 'Watching TV shows': 287,\n",
       " 'Checking email': 287,\n",
       " 'Playing online crossword puzzles': 287,\n",
       " 'Online shopping': 286,\n",
       " 'Reading a scientific research paper': 286,\n",
       " 'Scrolling through social media feeds': 241,\n",
       " 'Solving programming exercises': 240,\n",
       " 'Participating in an online quiz': 240,\n",
       " 'Chatting with friends on messaging apps': 240,\n",
       " 'Watching Khan Academy math tutorial': 1,\n",
       " 'Reviewing course lecture slides': 1}"
      ]
     },
     "execution_count": 11,
     "metadata": {},
     "output_type": "execute_result"
    }
   ],
   "source": [
    "# cheking types of data present in specific columns \n",
    "df['activity_description'].value_counts().to_dict()"
   ]
  },
  {
   "cell_type": "code",
   "execution_count": 12,
   "metadata": {},
   "outputs": [],
   "source": [
    "def text_clean(Text): \n",
    "            # changing to lower case\n",
    "            lower = Text.str.lower()\n",
    "            # Replacing the repeating pattern of &#039;\n",
    "            pattern_remove = lower.str.replace(\"&#039;\", \"\")\n",
    "            # Removing all the special Characters\n",
    "            special_remove = pattern_remove.str.replace(r'[^\\w\\d\\s]',' ')\n",
    "            # Removing all the non ASCII characters\n",
    "            ascii_remove = special_remove.str.replace(r'[^\\x00-\\x7F]+',' ')    \n",
    "            # Removing the leading and trailing Whitespaces\n",
    "            whitespace_remove = ascii_remove.str.replace(r'^\\s+|\\s+?$','')    \n",
    "            # Replacing multiple Spaces with Single Space\n",
    "            multiw_remove = whitespace_remove.str.replace(r'\\s+',' ') \n",
    "            # Replacing Two or more dots with one\n",
    "            dataframe = multiw_remove.str.replace(r'\\.{2,}', ' ')\n",
    "            return dataframe\n",
    "\n",
    "df[\"Cleaned_Text\"] = text_clean(df[\"activity_description\"])"
   ]
  },
  {
   "cell_type": "code",
   "execution_count": 13,
   "metadata": {},
   "outputs": [],
   "source": [
    "from sklearn.feature_extraction.text import HashingVectorizer\n",
    "\n",
    "### Hashing vectorizer\n",
    "hv = HashingVectorizer(n_features=500)\n",
    "# vector = hv.transform(df[\"Cleaned_Text\"])\n",
    "\n",
    "a = hv.fit_transform(df['activity_description']).toarray()"
   ]
  },
  {
   "cell_type": "markdown",
   "metadata": {},
   "source": [
    "### Splitting the Data"
   ]
  },
  {
   "cell_type": "code",
   "execution_count": 14,
   "metadata": {},
   "outputs": [],
   "source": [
    "x=pd.DataFrame(a)\n",
    "y=df['label']"
   ]
  },
  {
   "cell_type": "code",
   "execution_count": 15,
   "metadata": {},
   "outputs": [
    {
     "data": {
      "text/html": [
       "<div>\n",
       "<style scoped>\n",
       "    .dataframe tbody tr th:only-of-type {\n",
       "        vertical-align: middle;\n",
       "    }\n",
       "\n",
       "    .dataframe tbody tr th {\n",
       "        vertical-align: top;\n",
       "    }\n",
       "\n",
       "    .dataframe thead th {\n",
       "        text-align: right;\n",
       "    }\n",
       "</style>\n",
       "<table border=\"1\" class=\"dataframe\">\n",
       "  <thead>\n",
       "    <tr style=\"text-align: right;\">\n",
       "      <th></th>\n",
       "      <th>0</th>\n",
       "      <th>1</th>\n",
       "      <th>2</th>\n",
       "      <th>3</th>\n",
       "      <th>4</th>\n",
       "      <th>5</th>\n",
       "      <th>6</th>\n",
       "      <th>7</th>\n",
       "      <th>8</th>\n",
       "      <th>9</th>\n",
       "      <th>...</th>\n",
       "      <th>490</th>\n",
       "      <th>491</th>\n",
       "      <th>492</th>\n",
       "      <th>493</th>\n",
       "      <th>494</th>\n",
       "      <th>495</th>\n",
       "      <th>496</th>\n",
       "      <th>497</th>\n",
       "      <th>498</th>\n",
       "      <th>499</th>\n",
       "    </tr>\n",
       "  </thead>\n",
       "  <tbody>\n",
       "    <tr>\n",
       "      <th>0</th>\n",
       "      <td>0.0</td>\n",
       "      <td>0.0</td>\n",
       "      <td>0.0</td>\n",
       "      <td>0.0</td>\n",
       "      <td>0.0</td>\n",
       "      <td>0.0</td>\n",
       "      <td>0.0</td>\n",
       "      <td>0.0</td>\n",
       "      <td>0.0</td>\n",
       "      <td>0.0</td>\n",
       "      <td>...</td>\n",
       "      <td>0.0</td>\n",
       "      <td>0.0</td>\n",
       "      <td>0.0</td>\n",
       "      <td>0.0</td>\n",
       "      <td>0.0</td>\n",
       "      <td>0.0</td>\n",
       "      <td>0.0</td>\n",
       "      <td>0.447214</td>\n",
       "      <td>0.0</td>\n",
       "      <td>0.0</td>\n",
       "    </tr>\n",
       "    <tr>\n",
       "      <th>1</th>\n",
       "      <td>0.0</td>\n",
       "      <td>0.0</td>\n",
       "      <td>0.0</td>\n",
       "      <td>0.0</td>\n",
       "      <td>0.0</td>\n",
       "      <td>0.0</td>\n",
       "      <td>0.0</td>\n",
       "      <td>0.0</td>\n",
       "      <td>0.0</td>\n",
       "      <td>0.0</td>\n",
       "      <td>...</td>\n",
       "      <td>0.0</td>\n",
       "      <td>0.0</td>\n",
       "      <td>0.0</td>\n",
       "      <td>0.0</td>\n",
       "      <td>0.0</td>\n",
       "      <td>0.0</td>\n",
       "      <td>0.0</td>\n",
       "      <td>0.000000</td>\n",
       "      <td>0.0</td>\n",
       "      <td>0.0</td>\n",
       "    </tr>\n",
       "    <tr>\n",
       "      <th>2</th>\n",
       "      <td>0.0</td>\n",
       "      <td>0.0</td>\n",
       "      <td>0.0</td>\n",
       "      <td>0.0</td>\n",
       "      <td>0.0</td>\n",
       "      <td>0.0</td>\n",
       "      <td>0.0</td>\n",
       "      <td>0.0</td>\n",
       "      <td>0.0</td>\n",
       "      <td>0.0</td>\n",
       "      <td>...</td>\n",
       "      <td>0.0</td>\n",
       "      <td>0.0</td>\n",
       "      <td>0.0</td>\n",
       "      <td>0.0</td>\n",
       "      <td>0.0</td>\n",
       "      <td>0.0</td>\n",
       "      <td>0.0</td>\n",
       "      <td>0.000000</td>\n",
       "      <td>0.0</td>\n",
       "      <td>0.0</td>\n",
       "    </tr>\n",
       "    <tr>\n",
       "      <th>3</th>\n",
       "      <td>0.0</td>\n",
       "      <td>0.0</td>\n",
       "      <td>0.0</td>\n",
       "      <td>0.0</td>\n",
       "      <td>0.0</td>\n",
       "      <td>0.0</td>\n",
       "      <td>0.0</td>\n",
       "      <td>0.0</td>\n",
       "      <td>0.0</td>\n",
       "      <td>0.0</td>\n",
       "      <td>...</td>\n",
       "      <td>0.0</td>\n",
       "      <td>0.0</td>\n",
       "      <td>0.0</td>\n",
       "      <td>0.0</td>\n",
       "      <td>0.0</td>\n",
       "      <td>0.0</td>\n",
       "      <td>0.0</td>\n",
       "      <td>0.000000</td>\n",
       "      <td>0.0</td>\n",
       "      <td>0.0</td>\n",
       "    </tr>\n",
       "    <tr>\n",
       "      <th>4</th>\n",
       "      <td>0.0</td>\n",
       "      <td>0.0</td>\n",
       "      <td>0.0</td>\n",
       "      <td>0.0</td>\n",
       "      <td>0.0</td>\n",
       "      <td>0.0</td>\n",
       "      <td>0.0</td>\n",
       "      <td>0.0</td>\n",
       "      <td>0.0</td>\n",
       "      <td>0.0</td>\n",
       "      <td>...</td>\n",
       "      <td>0.0</td>\n",
       "      <td>0.0</td>\n",
       "      <td>0.0</td>\n",
       "      <td>0.0</td>\n",
       "      <td>0.0</td>\n",
       "      <td>0.0</td>\n",
       "      <td>0.0</td>\n",
       "      <td>0.000000</td>\n",
       "      <td>0.0</td>\n",
       "      <td>0.0</td>\n",
       "    </tr>\n",
       "  </tbody>\n",
       "</table>\n",
       "<p>5 rows × 500 columns</p>\n",
       "</div>"
      ],
      "text/plain": [
       "   0    1    2    3    4    5    6    7    8    9    ...  490  491  492  493  \\\n",
       "0  0.0  0.0  0.0  0.0  0.0  0.0  0.0  0.0  0.0  0.0  ...  0.0  0.0  0.0  0.0   \n",
       "1  0.0  0.0  0.0  0.0  0.0  0.0  0.0  0.0  0.0  0.0  ...  0.0  0.0  0.0  0.0   \n",
       "2  0.0  0.0  0.0  0.0  0.0  0.0  0.0  0.0  0.0  0.0  ...  0.0  0.0  0.0  0.0   \n",
       "3  0.0  0.0  0.0  0.0  0.0  0.0  0.0  0.0  0.0  0.0  ...  0.0  0.0  0.0  0.0   \n",
       "4  0.0  0.0  0.0  0.0  0.0  0.0  0.0  0.0  0.0  0.0  ...  0.0  0.0  0.0  0.0   \n",
       "\n",
       "   494  495  496       497  498  499  \n",
       "0  0.0  0.0  0.0  0.447214  0.0  0.0  \n",
       "1  0.0  0.0  0.0  0.000000  0.0  0.0  \n",
       "2  0.0  0.0  0.0  0.000000  0.0  0.0  \n",
       "3  0.0  0.0  0.0  0.000000  0.0  0.0  \n",
       "4  0.0  0.0  0.0  0.000000  0.0  0.0  \n",
       "\n",
       "[5 rows x 500 columns]"
      ]
     },
     "execution_count": 15,
     "metadata": {},
     "output_type": "execute_result"
    }
   ],
   "source": [
    "x.head()"
   ]
  },
  {
   "cell_type": "code",
   "execution_count": 22,
   "metadata": {},
   "outputs": [],
   "source": [
    "y.fillna(y.mode()[0], inplace=True)"
   ]
  },
  {
   "cell_type": "code",
   "execution_count": 53,
   "metadata": {},
   "outputs": [],
   "source": [
    "# Apply SMOTE to the training data\n",
    "smote = SMOTE(random_state=42)\n",
    "x, y = smote.fit_resample(x, y)"
   ]
  },
  {
   "cell_type": "code",
   "execution_count": 54,
   "metadata": {},
   "outputs": [
    {
     "data": {
      "text/plain": [
       "((3749, 500), (1607, 500), (3749,), (1607,))"
      ]
     },
     "execution_count": 54,
     "metadata": {},
     "output_type": "execute_result"
    }
   ],
   "source": [
    "x_train,x_test,y_train,y_test=train_test_split(x, y, test_size=0.3, random_state=1, stratify=y)\n",
    "x_train.shape,x_test.shape,y_train.shape,y_test.shape"
   ]
  },
  {
   "cell_type": "markdown",
   "metadata": {},
   "source": [
    "### Model Training"
   ]
  },
  {
   "cell_type": "markdown",
   "metadata": {},
   "source": [
    "### Decision Tree  "
   ]
  },
  {
   "cell_type": "code",
   "execution_count": 84,
   "metadata": {},
   "outputs": [
    {
     "name": "stdout",
     "output_type": "stream",
     "text": [
      "accuracy_dt =  0.9997332622032542\n"
     ]
    }
   ],
   "source": [
    "from sklearn.tree import DecisionTreeClassifier\n",
    "model_dt=DecisionTreeClassifier(ccp_alpha=0.0012)\n",
    "model_dt.fit(x_train,y_train)\n",
    "y_pred=model_dt.predict(x_train)\n",
    "acc_dt_train = accuracy_score(y_train,y_pred)\n",
    "print(f'accuracy_dt = ',acc_dt_train)"
   ]
  },
  {
   "cell_type": "code",
   "execution_count": 85,
   "metadata": {},
   "outputs": [
    {
     "name": "stdout",
     "output_type": "stream",
     "text": [
      "accuracy_dt =  0.9997332622032542\n",
      "Recall =  1.0\n",
      "Precision =  0.9994666666666666\n",
      "F1-score =  0.9997332622032541\n",
      "Condusion-Metrics = \n",
      " [[1874    1]\n",
      " [   0 1874]]\n"
     ]
    }
   ],
   "source": [
    "### Traning accuracy for DT\n",
    "y_pred=model_dt.predict(x_train)\n",
    "acc_dt_train = accuracy_score(y_train,y_pred)\n",
    "RS_dt_train = recall_score(y_train,y_pred)\n",
    "PS_dt_train = precision_score(y_train,y_pred)\n",
    "F1S_dt_train = f1_score(y_train,y_pred)\n",
    "CM_dt_train = confusion_matrix(y_train,y_pred)\n",
    "print(f'accuracy_dt = ',acc_dt_train)\n",
    "print(f'Recall = ',RS_dt_train)\n",
    "print(f'Precision = ',PS_dt_train)\n",
    "print(f'F1-score = ',F1S_dt_train)\n",
    "print(f'Condusion-Metrics = \\n',CM_dt_train)"
   ]
  },
  {
   "cell_type": "code",
   "execution_count": 86,
   "metadata": {},
   "outputs": [
    {
     "data": {
      "image/png": "[encoded data removed]",
      "text/plain": [
       "<Figure size 640x480 with 1 Axes>"
      ]
     },
     "metadata": {},
     "output_type": "display_data"
    }
   ],
   "source": [
    "# Plot the confusion matrix using Seaborn for Training Data\n",
    "sns.heatmap(CM_dt_train, annot=True, fmt=\"d\", cmap=\"Blues\", cbar=False,\n",
    "            xticklabels=['Predicted 0', 'Predicted 1'],\n",
    "            yticklabels=['Actual 0', 'Actual 1'])\n",
    "\n",
    "plt.title('Confusion Matrix')\n",
    "plt.xlabel('Predicted label')\n",
    "plt.ylabel('True label')\n",
    "plt.show()"
   ]
  },
  {
   "cell_type": "code",
   "execution_count": 87,
   "metadata": {},
   "outputs": [
    {
     "name": "stdout",
     "output_type": "stream",
     "text": [
      "accuracy_dt =  1.0\n",
      "Recall =  1.0\n",
      "Precision =  1.0\n",
      "F1-score =  1.0\n"
     ]
    }
   ],
   "source": [
    "### Testing accuracy for DT\n",
    "y_pred_test=model_dt.predict(x_test)\n",
    "acc_dt_test = accuracy_score(y_test,y_pred_test)\n",
    "RS_dt_test = recall_score(y_test,y_pred_test)\n",
    "PS_dt_test = precision_score(y_test,y_pred_test)\n",
    "F1S_dt_test = f1_score(y_test,y_pred_test)\n",
    "CM_dt_test = confusion_matrix(y_test,y_pred_test)\n",
    "print(f'accuracy_dt = ',acc_dt_test)\n",
    "print(f'Recall = ',RS_dt_test)\n",
    "print(f'Precision = ',PS_dt_test)\n",
    "print(f'F1-score = ',F1S_dt_test)"
   ]
  },
  {
   "cell_type": "code",
   "execution_count": 88,
   "metadata": {},
   "outputs": [
    {
     "data": {
      "image/png": "[encoded data removed]",
      "text/plain": [
       "<Figure size 640x480 with 1 Axes>"
      ]
     },
     "metadata": {},
     "output_type": "display_data"
    }
   ],
   "source": [
    "# Plot the confusion matrix using Seaborn for testing Data\n",
    "sns.heatmap(CM_dt_test, annot=True, fmt=\"d\", cmap=\"Reds\", cbar=False,\n",
    "            xticklabels=['Predicted 0', 'Predicted 1'],\n",
    "            yticklabels=['Actual 0', 'Actual 1'])\n",
    "\n",
    "plt.title('Confusion Matrix')\n",
    "plt.xlabel('Predicted label')\n",
    "plt.ylabel('True label')\n",
    "plt.show()"
   ]
  },
  {
   "cell_type": "code",
   "execution_count": 93,
   "metadata": {},
   "outputs": [
    {
     "name": "stdout",
     "output_type": "stream",
     "text": [
      "Fitting 5 folds for each of 10 candidates, totalling 50 fits\n",
      "Best parameters: {'min_samples_split': 10, 'min_samples_leaf': 4, 'max_depth': 5, 'criterion': 'entropy'}\n",
      "Test accuracy: 1.0\n"
     ]
    }
   ],
   "source": [
    "from sklearn.tree import DecisionTreeClassifier\n",
    "from sklearn.model_selection import RandomizedSearchCV, train_test_split\n",
    "\n",
    "# Define the parameter grid to search\n",
    "param_grid = {\n",
    "    'criterion': ['gini', 'entropy'],\n",
    "    'max_depth': [None, 5, 10, 15],\n",
    "    'min_samples_split': [2, 5, 10],\n",
    "    'min_samples_leaf': [1, 2, 4]\n",
    "}\n",
    "\n",
    "# Initialize the Decision Tree classifier\n",
    "dtree = DecisionTreeClassifier(ccp_alpha=0.0012)\n",
    "\n",
    "# Initialize RandomizedSearchCV\n",
    "grid_search = RandomizedSearchCV(estimator=dtree, param_distributions=param_grid, cv=5, n_jobs=-1, verbose=2)\n",
    "\n",
    "# Perform hyperparameter tuning\n",
    "grid_search.fit(x_train, y_train)\n",
    "\n",
    "# Print the best parameters found\n",
    "print(\"Best parameters:\", grid_search.best_params_)\n",
    "\n",
    "# Evaluate the model on the test set\n",
    "best_dtree = grid_search.best_estimator_\n",
    "test_accuracy = best_dtree.score(x_test, y_test)\n",
    "print(\"Test accuracy:\", test_accuracy)"
   ]
  },
  {
   "cell_type": "code",
   "execution_count": null,
   "metadata": {},
   "outputs": [],
   "source": []
  },
  {
   "cell_type": "code",
   "execution_count": null,
   "metadata": {},
   "outputs": [],
   "source": []
  },
  {
   "cell_type": "code",
   "execution_count": null,
   "metadata": {},
   "outputs": [],
   "source": []
  },
  {
   "cell_type": "code",
   "execution_count": null,
   "metadata": {},
   "outputs": [],
   "source": []
  },
  {
   "cell_type": "code",
   "execution_count": null,
   "metadata": {},
   "outputs": [],
   "source": []
  },
  {
   "cell_type": "code",
   "execution_count": null,
   "metadata": {},
   "outputs": [],
   "source": []
  },
  {
   "cell_type": "code",
   "execution_count": null,
   "metadata": {},
   "outputs": [],
   "source": []
  },
  {
   "cell_type": "code",
   "execution_count": null,
   "metadata": {},
   "outputs": [],
   "source": []
  },
  {
   "cell_type": "code",
   "execution_count": 30,
   "metadata": {},
   "outputs": [
    {
     "data": {
      "text/plain": [
       "1.0"
      ]
     },
     "execution_count": 30,
     "metadata": {},
     "output_type": "execute_result"
    }
   ],
   "source": [
    "from sklearn.naive_bayes import GaussianNB\n",
    "model_gnb=GaussianNB()\n",
    "model_gnb.fit(x_train,y_train)\n",
    "y_pred=model_gnb.predict(x_train)\n",
    "acc_gnb_train = accuracy_score(y_train,y_pred)\n",
    "acc_gnb_train"
   ]
  },
  {
   "cell_type": "code",
   "execution_count": 31,
   "metadata": {},
   "outputs": [
    {
     "name": "stdout",
     "output_type": "stream",
     "text": [
      "accuracy_dt =  0.5354285714285715\n",
      "Recall =  1.0\n",
      "Precision =  0.5354285714285715\n",
      "F1-score =  0.6974320803870487\n",
      "Condusion-Metrics = \n",
      " [[   0 1626]\n",
      " [   0 1874]]\n"
     ]
    }
   ],
   "source": [
    "### Traning accuracy for DT\n",
    "y_pred=model_dt.predict(x_train)\n",
    "acc_dt_train = accuracy_score(y_train,y_pred)\n",
    "RS_dt_train = recall_score(y_train,y_pred)\n",
    "PS_dt_train = precision_score(y_train,y_pred)\n",
    "F1S_dt_train = f1_score(y_train,y_pred)\n",
    "CM_dt_train = confusion_matrix(y_train,y_pred)\n",
    "print(f'accuracy_dt = ',acc_dt_train)\n",
    "print(f'Recall = ',RS_dt_train)\n",
    "print(f'Precision = ',PS_dt_train)\n",
    "print(f'F1-score = ',F1S_dt_train)\n",
    "print(f'Condusion-Metrics = \\n',CM_dt_train)"
   ]
  },
  {
   "cell_type": "markdown",
   "metadata": {},
   "source": [
    "### CNN"
   ]
  },
  {
   "cell_type": "code",
   "execution_count": 32,
   "metadata": {},
   "outputs": [
    {
     "name": "stdout",
     "output_type": "stream",
     "text": [
      "Epoch 1/10\n"
     ]
    },
    {
     "name": "stdout",
     "output_type": "stream",
     "text": [
      "110/110 [==============================] - 4s 9ms/step - loss: 0.1715 - accuracy: 0.9786 - val_loss: 0.0079 - val_accuracy: 1.0000\n",
      "Epoch 2/10\n",
      "110/110 [==============================] - 0s 4ms/step - loss: 0.0034 - accuracy: 1.0000 - val_loss: 0.0015 - val_accuracy: 1.0000\n",
      "Epoch 3/10\n",
      "110/110 [==============================] - 1s 6ms/step - loss: 9.7965e-04 - accuracy: 1.0000 - val_loss: 6.2376e-04 - val_accuracy: 1.0000\n",
      "Epoch 4/10\n",
      "110/110 [==============================] - 1s 6ms/step - loss: 4.6812e-04 - accuracy: 1.0000 - val_loss: 3.4366e-04 - val_accuracy: 1.0000\n",
      "Epoch 5/10\n",
      "110/110 [==============================] - 0s 4ms/step - loss: 2.7752e-04 - accuracy: 1.0000 - val_loss: 2.1949e-04 - val_accuracy: 1.0000\n",
      "Epoch 6/10\n",
      "110/110 [==============================] - 0s 4ms/step - loss: 1.8452e-04 - accuracy: 1.0000 - val_loss: 1.5218e-04 - val_accuracy: 1.0000\n",
      "Epoch 7/10\n",
      "110/110 [==============================] - 0s 4ms/step - loss: 1.3133e-04 - accuracy: 1.0000 - val_loss: 1.1124e-04 - val_accuracy: 1.0000\n",
      "Epoch 8/10\n",
      "110/110 [==============================] - 0s 4ms/step - loss: 9.8156e-05 - accuracy: 1.0000 - val_loss: 8.4911e-05 - val_accuracy: 1.0000\n",
      "Epoch 9/10\n",
      "110/110 [==============================] - 1s 5ms/step - loss: 7.6120e-05 - accuracy: 1.0000 - val_loss: 6.6875e-05 - val_accuracy: 1.0000\n",
      "Epoch 10/10\n",
      "110/110 [==============================] - 0s 4ms/step - loss: 6.0693e-05 - accuracy: 1.0000 - val_loss: 5.3979e-05 - val_accuracy: 1.0000\n",
      "110/110 [==============================] - 0s 2ms/step - loss: 5.4392e-05 - accuracy: 1.0000\n",
      "Train Loss: 0.0001, Train Accuracy: 1.0000\n"
     ]
    }
   ],
   "source": [
    "# Standardize the data\n",
    "scaler = StandardScaler()\n",
    "X_train = scaler.fit_transform(x_train)\n",
    "X_test = scaler.transform(x_test)\n",
    "\n",
    "# Build a simple fully connected neural network model\n",
    "model_cnn = Sequential()\n",
    "model_cnn.add(Dense(64, input_dim=X_train.shape[1], activation='relu'))\n",
    "model_cnn.add(Dense(32, activation='relu'))\n",
    "model_cnn.add(Dense(1, activation='sigmoid'))\n",
    "\n",
    "# Compile the model\n",
    "model_cnn.compile(optimizer=Adam(), loss='binary_crossentropy', metrics=['accuracy'])\n",
    "\n",
    "# Train the model\n",
    "model_cnn.fit(X_train, y_train, epochs=10, batch_size=32, validation_data=(X_test, y_test))\n",
    "\n",
    "# Evaluate the model\n",
    "loss, accuracy = model_cnn.evaluate(X_train, y_train)\n",
    "print(f'Train Loss: {loss:.4f}, Train Accuracy: {accuracy:.4f}')"
   ]
  },
  {
   "cell_type": "code",
   "execution_count": 33,
   "metadata": {},
   "outputs": [
    {
     "name": "stdout",
     "output_type": "stream",
     "text": [
      "110/110 [==============================] - 0s 2ms/step\n",
      "accuracy_CNN =  1.0\n",
      "Recall =  1.0\n",
      "Precision =  1.0\n",
      "F1-score =  1.0\n",
      "Condusion-Metrics = \n",
      " [[1626    0]\n",
      " [   0 1874]]\n"
     ]
    }
   ],
   "source": [
    "### Traning accuracy for CNN\n",
    "y_pred=model_cnn.predict(X_train)\n",
    "# Assuming y_train and y_pred are continuous values\n",
    "threshold = 0.5\n",
    "y_pred_binary = (y_pred > threshold).astype(int)\n",
    "\n",
    "# Calculate classification metrics\n",
    "acc_cnn_train = accuracy_score(y_train,y_pred_binary)\n",
    "RS_cnn_train = recall_score(y_train,y_pred_binary)\n",
    "PS_cnn_train = precision_score(y_train,y_pred_binary)\n",
    "F1S_cnn_train = f1_score(y_train,y_pred_binary)\n",
    "CM_cnn_train = confusion_matrix(y_train,y_pred_binary)\n",
    "print(f'accuracy_CNN = ',acc_cnn_train)\n",
    "print(f'Recall = ',RS_cnn_train)\n",
    "print(f'Precision = ',PS_cnn_train)\n",
    "print(f'F1-score = ',F1S_cnn_train)\n",
    "print(f'Condusion-Metrics = \\n',CM_cnn_train)\n"
   ]
  },
  {
   "cell_type": "code",
   "execution_count": 34,
   "metadata": {},
   "outputs": [
    {
     "data": {
      "image/png": "[encoded data removed]",
      "text/plain": [
       "<Figure size 640x480 with 1 Axes>"
      ]
     },
     "metadata": {},
     "output_type": "display_data"
    }
   ],
   "source": [
    "# Plot the confusion matrix using Seaborn for Training Data\n",
    "sns.heatmap(CM_cnn_train, annot=True, fmt=\"d\", cmap=\"Blues\", cbar=False,\n",
    "            xticklabels=['Predicted 0', 'Predicted 1'],\n",
    "            yticklabels=['Actual 0', 'Actual 1'])\n",
    "\n",
    "plt.title('Confusion Matrix')\n",
    "plt.xlabel('Predicted label')\n",
    "plt.ylabel('True label')\n",
    "plt.show()"
   ]
  },
  {
   "cell_type": "code",
   "execution_count": 35,
   "metadata": {},
   "outputs": [],
   "source": [
    "with open('CNN_model.pkl','wb') as fp:\n",
    "    pickle.dump(model_cnn,fp)"
   ]
  },
  {
   "cell_type": "code",
   "execution_count": 36,
   "metadata": {},
   "outputs": [
    {
     "name": "stdout",
     "output_type": "stream",
     "text": [
      "Epoch 1/10\n",
      "110/110 [==============================] - 2s 6ms/step - loss: 0.1526 - accuracy: 0.9903 - val_loss: 0.0071 - val_accuracy: 1.0000\n",
      "Epoch 2/10\n",
      "110/110 [==============================] - 1s 7ms/step - loss: 0.0033 - accuracy: 1.0000 - val_loss: 0.0015 - val_accuracy: 1.0000\n",
      "Epoch 3/10\n",
      "110/110 [==============================] - 0s 4ms/step - loss: 0.0010 - accuracy: 1.0000 - val_loss: 6.6587e-04 - val_accuracy: 1.0000\n",
      "Epoch 4/10\n",
      "110/110 [==============================] - 0s 4ms/step - loss: 5.0646e-04 - accuracy: 1.0000 - val_loss: 3.7253e-04 - val_accuracy: 1.0000\n",
      "Epoch 5/10\n",
      "110/110 [==============================] - 0s 4ms/step - loss: 3.0251e-04 - accuracy: 1.0000 - val_loss: 2.3771e-04 - val_accuracy: 1.0000\n",
      "Epoch 6/10\n",
      "110/110 [==============================] - 1s 5ms/step - loss: 1.9977e-04 - accuracy: 1.0000 - val_loss: 1.6304e-04 - val_accuracy: 1.0000\n",
      "Epoch 7/10\n",
      "110/110 [==============================] - 1s 5ms/step - loss: 1.4148e-04 - accuracy: 1.0000 - val_loss: 1.1913e-04 - val_accuracy: 1.0000\n",
      "Epoch 8/10\n",
      "110/110 [==============================] - 1s 5ms/step - loss: 1.0507e-04 - accuracy: 1.0000 - val_loss: 8.9503e-05 - val_accuracy: 1.0000\n",
      "Epoch 9/10\n",
      "110/110 [==============================] - 1s 6ms/step - loss: 8.0073e-05 - accuracy: 1.0000 - val_loss: 6.9509e-05 - val_accuracy: 1.0000\n",
      "Epoch 10/10\n",
      "110/110 [==============================] - 1s 5ms/step - loss: 6.3147e-05 - accuracy: 1.0000 - val_loss: 5.5602e-05 - val_accuracy: 1.0000\n",
      "47/47 [==============================] - 0s 2ms/step - loss: 5.5602e-05 - accuracy: 1.0000\n",
      "Test Loss: 0.0001, Test Accuracy: 1.0000\n"
     ]
    }
   ],
   "source": [
    "# Standardize the data\n",
    "scaler = StandardScaler()\n",
    "X_train = scaler.fit_transform(x_train)\n",
    "X_test = scaler.transform(x_test)\n",
    "\n",
    "# Build a simple fully connected neural network model\n",
    "model_cnn = Sequential()\n",
    "model_cnn.add(Dense(64, input_dim=X_train.shape[1], activation='relu'))\n",
    "model_cnn.add(Dense(32, activation='relu'))\n",
    "model_cnn.add(Dense(1, activation='sigmoid'))\n",
    "\n",
    "# Compile the model\n",
    "model_cnn.compile(optimizer=Adam(), loss='binary_crossentropy', metrics=['accuracy'])\n",
    "\n",
    "# Train the model\n",
    "model_cnn.fit(X_train, y_train, epochs=10, batch_size=32, validation_data=(X_test, y_test))\n",
    "\n",
    "# Evaluate the model\n",
    "loss, accuracy = model_cnn.evaluate(X_test, y_test)\n",
    "print(f'Test Loss: {loss:.4f}, Test Accuracy: {accuracy:.4f}')"
   ]
  },
  {
   "cell_type": "code",
   "execution_count": 37,
   "metadata": {},
   "outputs": [
    {
     "name": "stdout",
     "output_type": "stream",
     "text": [
      "47/47 [==============================] - 0s 2ms/step\n",
      "accuracy_CNN =  1.0\n",
      "Recall =  1.0\n",
      "Precision =  1.0\n",
      "F1-score =  1.0\n",
      "Condusion-Metrics = \n",
      " [[697   0]\n",
      " [  0 804]]\n"
     ]
    }
   ],
   "source": [
    "### Testing accuracy for CNN\n",
    "y_pred_test=model_cnn.predict(X_test)\n",
    "# Assuming y_test and y_pred are continuous values\n",
    "threshold = 0.5\n",
    "y_pred_binary = (y_pred_test > threshold).astype(int)\n",
    "\n",
    "# Calculate classification metrics\n",
    "acc_cnn_test = accuracy_score(y_test,y_pred_binary)\n",
    "RS_cnn_test = recall_score(y_test,y_pred_binary)\n",
    "PS_cnn_test = precision_score(y_test,y_pred_binary)\n",
    "F1S_cnn_test = f1_score(y_test,y_pred_binary)\n",
    "CM_cnn_test = confusion_matrix(y_test,y_pred_binary)\n",
    "print(f'accuracy_CNN = ',acc_cnn_test)\n",
    "print(f'Recall = ',RS_cnn_test)\n",
    "print(f'Precision = ',PS_cnn_test)\n",
    "print(f'F1-score = ',F1S_cnn_test)\n",
    "print(f'Condusion-Metrics = \\n',CM_cnn_test)"
   ]
  },
  {
   "cell_type": "code",
   "execution_count": 38,
   "metadata": {},
   "outputs": [
    {
     "data": {
      "image/png": "[encoded data removed]",
      "text/plain": [
       "<Figure size 640x480 with 1 Axes>"
      ]
     },
     "metadata": {},
     "output_type": "display_data"
    }
   ],
   "source": [
    "# Plot the confusion matrix using Seaborn for Testing Data\n",
    "sns.heatmap(CM_cnn_test, annot=True, fmt=\"d\", cmap=\"Reds\", cbar=False,\n",
    "            xticklabels=['Predicted 0', 'Predicted 1'],\n",
    "            yticklabels=['Actual 0', 'Actual 1'])\n",
    "\n",
    "plt.title('Confusion Matrix')\n",
    "plt.xlabel('Predicted label')\n",
    "plt.ylabel('True label')\n",
    "plt.show()"
   ]
  },
  {
   "cell_type": "markdown",
   "metadata": {},
   "source": [
    "### Linear Discriminant Analysis [LDA]"
   ]
  },
  {
   "cell_type": "code",
   "execution_count": 39,
   "metadata": {},
   "outputs": [
    {
     "data": {
      "text/html": [
       "<style>#sk-container-id-1 {color: black;background-color: white;}#sk-container-id-1 pre{padding: 0;}#sk-container-id-1 div.sk-toggleable {background-color: white;}#sk-container-id-1 label.sk-toggleable__label {cursor: pointer;display: block;width: 100%;margin-bottom: 0;padding: 0.3em;box-sizing: border-box;text-align: center;}#sk-container-id-1 label.sk-toggleable__label-arrow:before {content: \"▸\";float: left;margin-right: 0.25em;color: #696969;}#sk-container-id-1 label.sk-toggleable__label-arrow:hover:before {color: black;}#sk-container-id-1 div.sk-estimator:hover label.sk-toggleable__label-arrow:before {color: black;}#sk-container-id-1 div.sk-toggleable__content {max-height: 0;max-width: 0;overflow: hidden;text-align: left;background-color: #f0f8ff;}#sk-container-id-1 div.sk-toggleable__content pre {margin: 0.2em;color: black;border-radius: 0.25em;background-color: #f0f8ff;}#sk-container-id-1 input.sk-toggleable__control:checked~div.sk-toggleable__content {max-height: 200px;max-width: 100%;overflow: auto;}#sk-container-id-1 input.sk-toggleable__control:checked~label.sk-toggleable__label-arrow:before {content: \"▾\";}#sk-container-id-1 div.sk-estimator input.sk-toggleable__control:checked~label.sk-toggleable__label {background-color: #d4ebff;}#sk-container-id-1 div.sk-label input.sk-toggleable__control:checked~label.sk-toggleable__label {background-color: #d4ebff;}#sk-container-id-1 input.sk-hidden--visually {border: 0;clip: rect(1px 1px 1px 1px);clip: rect(1px, 1px, 1px, 1px);height: 1px;margin: -1px;overflow: hidden;padding: 0;position: absolute;width: 1px;}#sk-container-id-1 div.sk-estimator {font-family: monospace;background-color: #f0f8ff;border: 1px dotted black;border-radius: 0.25em;box-sizing: border-box;margin-bottom: 0.5em;}#sk-container-id-1 div.sk-estimator:hover {background-color: #d4ebff;}#sk-container-id-1 div.sk-parallel-item::after {content: \"\";width: 100%;border-bottom: 1px solid gray;flex-grow: 1;}#sk-container-id-1 div.sk-label:hover label.sk-toggleable__label {background-color: #d4ebff;}#sk-container-id-1 div.sk-serial::before {content: \"\";position: absolute;border-left: 1px solid gray;box-sizing: border-box;top: 0;bottom: 0;left: 50%;z-index: 0;}#sk-container-id-1 div.sk-serial {display: flex;flex-direction: column;align-items: center;background-color: white;padding-right: 0.2em;padding-left: 0.2em;position: relative;}#sk-container-id-1 div.sk-item {position: relative;z-index: 1;}#sk-container-id-1 div.sk-parallel {display: flex;align-items: stretch;justify-content: center;background-color: white;position: relative;}#sk-container-id-1 div.sk-item::before, #sk-container-id-1 div.sk-parallel-item::before {content: \"\";position: absolute;border-left: 1px solid gray;box-sizing: border-box;top: 0;bottom: 0;left: 50%;z-index: -1;}#sk-container-id-1 div.sk-parallel-item {display: flex;flex-direction: column;z-index: 1;position: relative;background-color: white;}#sk-container-id-1 div.sk-parallel-item:first-child::after {align-self: flex-end;width: 50%;}#sk-container-id-1 div.sk-parallel-item:last-child::after {align-self: flex-start;width: 50%;}#sk-container-id-1 div.sk-parallel-item:only-child::after {width: 0;}#sk-container-id-1 div.sk-dashed-wrapped {border: 1px dashed gray;margin: 0 0.4em 0.5em 0.4em;box-sizing: border-box;padding-bottom: 0.4em;background-color: white;}#sk-container-id-1 div.sk-label label {font-family: monospace;font-weight: bold;display: inline-block;line-height: 1.2em;}#sk-container-id-1 div.sk-label-container {text-align: center;}#sk-container-id-1 div.sk-container {/* jupyter's `normalize.less` sets `[hidden] { display: none; }` but bootstrap.min.css set `[hidden] { display: none !important; }` so we also need the `!important` here to be able to override the default hidden behavior on the sphinx rendered scikit-learn.org. See: https://github.com/scikit-learn/scikit-learn/issues/21755 */display: inline-block !important;position: relative;}#sk-container-id-1 div.sk-text-repr-fallback {display: none;}</style><div id=\"sk-container-id-1\" class=\"sk-top-container\"><div class=\"sk-text-repr-fallback\"><pre>LinearDiscriminantAnalysis()</pre><b>In a Jupyter environment, please rerun this cell to show the HTML representation or trust the notebook. <br />On GitHub, the HTML representation is unable to render, please try loading this page with nbviewer.org.</b></div><div class=\"sk-container\" hidden><div class=\"sk-item\"><div class=\"sk-estimator sk-toggleable\"><input class=\"sk-toggleable__control sk-hidden--visually\" id=\"sk-estimator-id-1\" type=\"checkbox\" checked><label for=\"sk-estimator-id-1\" class=\"sk-toggleable__label sk-toggleable__label-arrow\">LinearDiscriminantAnalysis</label><div class=\"sk-toggleable__content\"><pre>LinearDiscriminantAnalysis()</pre></div></div></div></div></div>"
      ],
      "text/plain": [
       "LinearDiscriminantAnalysis()"
      ]
     },
     "execution_count": 39,
     "metadata": {},
     "output_type": "execute_result"
    }
   ],
   "source": [
    "model_lda=LinearDiscriminantAnalysis()\n",
    "model_lda.fit(x_train,y_train)"
   ]
  },
  {
   "cell_type": "code",
   "execution_count": 40,
   "metadata": {},
   "outputs": [
    {
     "name": "stdout",
     "output_type": "stream",
     "text": [
      "[0. 0. 1. ... 0. 1. 1.]\n",
      "accuracy_lda =  0.7105714285714285\n",
      "Recall =  0.7844183564567769\n",
      "Precision =  0.7070707070707071\n",
      "F1-score =  0.7437389324563622\n",
      "Condusion-Metrics = \n",
      " [[1017  609]\n",
      " [ 404 1470]]\n"
     ]
    }
   ],
   "source": [
    "# Claclulate Y_pred\n",
    "y_pred=model_lda.predict(x_train)\n",
    "print(y_pred)\n",
    "\n",
    "# Calculate classification metrics\n",
    "acc_lda_train = accuracy_score(y_train,y_pred)\n",
    "RS_lda_train = recall_score(y_train,y_pred)\n",
    "PS_lda_train = precision_score(y_train,y_pred)\n",
    "F1S_lda_train = f1_score(y_train,y_pred)\n",
    "CM_lda_train = confusion_matrix(y_train,y_pred)\n",
    "print(f'accuracy_lda = ',acc_lda_train)\n",
    "print(f'Recall = ',RS_lda_train)\n",
    "print(f'Precision = ',PS_lda_train)\n",
    "print(f'F1-score = ',F1S_lda_train)\n",
    "print(f'Condusion-Metrics = \\n',CM_lda_train)"
   ]
  },
  {
   "cell_type": "code",
   "execution_count": 41,
   "metadata": {},
   "outputs": [
    {
     "data": {
      "image/png": "[encoded data removed]",
      "text/plain": [
       "<Figure size 640x480 with 1 Axes>"
      ]
     },
     "metadata": {},
     "output_type": "display_data"
    }
   ],
   "source": [
    "# Plot the confusion matrix using Seaborn for Training Data\n",
    "sns.heatmap(CM_lda_train, annot=True, fmt=\"d\", cmap=\"Blues\", cbar=False,\n",
    "            xticklabels=['Predicted 0', 'Predicted 1'],\n",
    "            yticklabels=['Actual 0', 'Actual 1'])\n",
    "\n",
    "plt.title('Confusion Matrix')\n",
    "plt.xlabel('Predicted label')\n",
    "plt.ylabel('True label')\n",
    "plt.show()"
   ]
  },
  {
   "cell_type": "code",
   "execution_count": 42,
   "metadata": {},
   "outputs": [
    {
     "name": "stdout",
     "output_type": "stream",
     "text": [
      "[1. 1. 1. ... 0. 1. 0.]\n",
      "accuracy_lda =  0.7135243171219188\n",
      "Recall =  0.7898009950248757\n",
      "Precision =  0.7087053571428571\n",
      "F1-score =  0.7470588235294119\n"
     ]
    }
   ],
   "source": [
    "### Testing accuracy for LDA\n",
    "\n",
    "# Calculate y_pred\n",
    "y_pred_test=model_lda.predict(x_test)\n",
    "print(y_pred_test)\n",
    "\n",
    "# Calculate classification metrics\n",
    "acc_lda_test = accuracy_score(y_test,y_pred_test)\n",
    "RS_lda_test = recall_score(y_test,y_pred_test)\n",
    "PS_lda_test = precision_score(y_test,y_pred_test)\n",
    "F1S_lda_test = f1_score(y_test,y_pred_test)\n",
    "CM_lda_test = confusion_matrix(y_test,y_pred_test)\n",
    "print(f'accuracy_lda = ',acc_lda_test)\n",
    "print(f'Recall = ',RS_lda_test)\n",
    "print(f'Precision = ',PS_lda_test)\n",
    "print(f'F1-score = ',F1S_lda_test)"
   ]
  },
  {
   "cell_type": "code",
   "execution_count": 43,
   "metadata": {},
   "outputs": [
    {
     "data": {
      "image/png": "[encoded data removed]",
      "text/plain": [
       "<Figure size 640x480 with 1 Axes>"
      ]
     },
     "metadata": {},
     "output_type": "display_data"
    }
   ],
   "source": [
    "# Plot the confusion matrix using Seaborn for Testing Data\n",
    "sns.heatmap(CM_lda_test, annot=True, fmt=\"d\", cmap=\"Reds\", cbar=False,\n",
    "            xticklabels=['Predicted 0', 'Predicted 1'],\n",
    "            yticklabels=['Actual 0', 'Actual 1'])\n",
    "\n",
    "plt.title('Confusion Matrix')\n",
    "plt.xlabel('Predicted label')\n",
    "plt.ylabel('True label')\n",
    "plt.show()"
   ]
  },
  {
   "cell_type": "markdown",
   "metadata": {},
   "source": [
    "### **Navie Bayes**"
   ]
  },
  {
   "cell_type": "code",
   "execution_count": 44,
   "metadata": {},
   "outputs": [
    {
     "data": {
      "text/html": [
       "<style>#sk-container-id-2 {color: black;background-color: white;}#sk-container-id-2 pre{padding: 0;}#sk-container-id-2 div.sk-toggleable {background-color: white;}#sk-container-id-2 label.sk-toggleable__label {cursor: pointer;display: block;width: 100%;margin-bottom: 0;padding: 0.3em;box-sizing: border-box;text-align: center;}#sk-container-id-2 label.sk-toggleable__label-arrow:before {content: \"▸\";float: left;margin-right: 0.25em;color: #696969;}#sk-container-id-2 label.sk-toggleable__label-arrow:hover:before {color: black;}#sk-container-id-2 div.sk-estimator:hover label.sk-toggleable__label-arrow:before {color: black;}#sk-container-id-2 div.sk-toggleable__content {max-height: 0;max-width: 0;overflow: hidden;text-align: left;background-color: #f0f8ff;}#sk-container-id-2 div.sk-toggleable__content pre {margin: 0.2em;color: black;border-radius: 0.25em;background-color: #f0f8ff;}#sk-container-id-2 input.sk-toggleable__control:checked~div.sk-toggleable__content {max-height: 200px;max-width: 100%;overflow: auto;}#sk-container-id-2 input.sk-toggleable__control:checked~label.sk-toggleable__label-arrow:before {content: \"▾\";}#sk-container-id-2 div.sk-estimator input.sk-toggleable__control:checked~label.sk-toggleable__label {background-color: #d4ebff;}#sk-container-id-2 div.sk-label input.sk-toggleable__control:checked~label.sk-toggleable__label {background-color: #d4ebff;}#sk-container-id-2 input.sk-hidden--visually {border: 0;clip: rect(1px 1px 1px 1px);clip: rect(1px, 1px, 1px, 1px);height: 1px;margin: -1px;overflow: hidden;padding: 0;position: absolute;width: 1px;}#sk-container-id-2 div.sk-estimator {font-family: monospace;background-color: #f0f8ff;border: 1px dotted black;border-radius: 0.25em;box-sizing: border-box;margin-bottom: 0.5em;}#sk-container-id-2 div.sk-estimator:hover {background-color: #d4ebff;}#sk-container-id-2 div.sk-parallel-item::after {content: \"\";width: 100%;border-bottom: 1px solid gray;flex-grow: 1;}#sk-container-id-2 div.sk-label:hover label.sk-toggleable__label {background-color: #d4ebff;}#sk-container-id-2 div.sk-serial::before {content: \"\";position: absolute;border-left: 1px solid gray;box-sizing: border-box;top: 0;bottom: 0;left: 50%;z-index: 0;}#sk-container-id-2 div.sk-serial {display: flex;flex-direction: column;align-items: center;background-color: white;padding-right: 0.2em;padding-left: 0.2em;position: relative;}#sk-container-id-2 div.sk-item {position: relative;z-index: 1;}#sk-container-id-2 div.sk-parallel {display: flex;align-items: stretch;justify-content: center;background-color: white;position: relative;}#sk-container-id-2 div.sk-item::before, #sk-container-id-2 div.sk-parallel-item::before {content: \"\";position: absolute;border-left: 1px solid gray;box-sizing: border-box;top: 0;bottom: 0;left: 50%;z-index: -1;}#sk-container-id-2 div.sk-parallel-item {display: flex;flex-direction: column;z-index: 1;position: relative;background-color: white;}#sk-container-id-2 div.sk-parallel-item:first-child::after {align-self: flex-end;width: 50%;}#sk-container-id-2 div.sk-parallel-item:last-child::after {align-self: flex-start;width: 50%;}#sk-container-id-2 div.sk-parallel-item:only-child::after {width: 0;}#sk-container-id-2 div.sk-dashed-wrapped {border: 1px dashed gray;margin: 0 0.4em 0.5em 0.4em;box-sizing: border-box;padding-bottom: 0.4em;background-color: white;}#sk-container-id-2 div.sk-label label {font-family: monospace;font-weight: bold;display: inline-block;line-height: 1.2em;}#sk-container-id-2 div.sk-label-container {text-align: center;}#sk-container-id-2 div.sk-container {/* jupyter's `normalize.less` sets `[hidden] { display: none; }` but bootstrap.min.css set `[hidden] { display: none !important; }` so we also need the `!important` here to be able to override the default hidden behavior on the sphinx rendered scikit-learn.org. See: https://github.com/scikit-learn/scikit-learn/issues/21755 */display: inline-block !important;position: relative;}#sk-container-id-2 div.sk-text-repr-fallback {display: none;}</style><div id=\"sk-container-id-2\" class=\"sk-top-container\"><div class=\"sk-text-repr-fallback\"><pre>GaussianNB()</pre><b>In a Jupyter environment, please rerun this cell to show the HTML representation or trust the notebook. <br />On GitHub, the HTML representation is unable to render, please try loading this page with nbviewer.org.</b></div><div class=\"sk-container\" hidden><div class=\"sk-item\"><div class=\"sk-estimator sk-toggleable\"><input class=\"sk-toggleable__control sk-hidden--visually\" id=\"sk-estimator-id-2\" type=\"checkbox\" checked><label for=\"sk-estimator-id-2\" class=\"sk-toggleable__label sk-toggleable__label-arrow\">GaussianNB</label><div class=\"sk-toggleable__content\"><pre>GaussianNB()</pre></div></div></div></div></div>"
      ],
      "text/plain": [
       "GaussianNB()"
      ]
     },
     "execution_count": 44,
     "metadata": {},
     "output_type": "execute_result"
    }
   ],
   "source": [
    "from sklearn.naive_bayes import GaussianNB\n",
    "gnb = GaussianNB()\n",
    "gnb.fit(x_train, y_train)\n"
   ]
  },
  {
   "cell_type": "code",
   "execution_count": 45,
   "metadata": {},
   "outputs": [
    {
     "name": "stdout",
     "output_type": "stream",
     "text": [
      "accuracy_gnb =  1.0\n",
      "Recall =  1.0\n",
      "Precision =  1.0\n",
      "F1-score =  1.0\n",
      "Condusion-Metrics = \n",
      " [[1626    0]\n",
      " [   0 1874]]\n"
     ]
    }
   ],
   "source": [
    "### Traning accuracy for DT\n",
    "y_pred=gnb.predict(x_train)\n",
    "acc_gnb_train = accuracy_score(y_train,y_pred)\n",
    "RS_gnb_train = recall_score(y_train,y_pred)\n",
    "PS_gnb_train = precision_score(y_train,y_pred)\n",
    "F1S_gnb_train = f1_score(y_train,y_pred)\n",
    "CM_gnb_train = confusion_matrix(y_train,y_pred)\n",
    "print(f'accuracy_gnb = ',acc_gnb_train)\n",
    "print(f'Recall = ',RS_gnb_train)\n",
    "print(f'Precision = ',PS_gnb_train)\n",
    "print(f'F1-score = ',F1S_gnb_train)\n",
    "print(f'Condusion-Metrics = \\n',CM_gnb_train)"
   ]
  },
  {
   "cell_type": "code",
   "execution_count": 46,
   "metadata": {},
   "outputs": [
    {
     "data": {
      "image/png": "[encoded data removed]",
      "text/plain": [
       "<Figure size 640x480 with 1 Axes>"
      ]
     },
     "metadata": {},
     "output_type": "display_data"
    }
   ],
   "source": [
    "# Plot the confusion matrix using Seaborn for Testing Data\n",
    "sns.heatmap(CM_gnb_train, annot=True, fmt=\"d\", cmap=\"Reds\", cbar=False,\n",
    "            xticklabels=['Predicted 0', 'Predicted 1'],\n",
    "            yticklabels=['Actual 0', 'Actual 1'])\n",
    "\n",
    "plt.title('Confusion Matrix')\n",
    "plt.xlabel('Predicted label')\n",
    "plt.ylabel('True label')\n",
    "plt.show()"
   ]
  },
  {
   "cell_type": "code",
   "execution_count": 47,
   "metadata": {},
   "outputs": [
    {
     "name": "stdout",
     "output_type": "stream",
     "text": [
      "accuracy_dt =  1.0\n",
      "Recall =  1.0\n",
      "Precision =  1.0\n",
      "F1-score =  1.0\n"
     ]
    }
   ],
   "source": [
    "### Testing accuracy for DT\n",
    "y_pred_test=gnb.predict(x_test)\n",
    "acc_gnb_test = accuracy_score(y_test,y_pred_test)\n",
    "RS_gnb_test = recall_score(y_test,y_pred_test)\n",
    "PS_gnb_test = precision_score(y_test,y_pred_test)\n",
    "F1S_gnb_test = f1_score(y_test,y_pred_test)\n",
    "CM_gnb_test = confusion_matrix(y_test,y_pred_test)\n",
    "print(f'accuracy_dt = ',acc_gnb_test)\n",
    "print(f'Recall = ',RS_gnb_test)\n",
    "print(f'Precision = ',PS_gnb_test)\n",
    "print(f'F1-score = ',F1S_gnb_test)"
   ]
  },
  {
   "cell_type": "code",
   "execution_count": 48,
   "metadata": {},
   "outputs": [
    {
     "data": {
      "image/png": "[encoded data removed]",
      "text/plain": [
       "<Figure size 640x480 with 1 Axes>"
      ]
     },
     "metadata": {},
     "output_type": "display_data"
    }
   ],
   "source": [
    "# Plot the confusion matrix using Seaborn for Testing Data\n",
    "sns.heatmap(CM_gnb_test, annot=True, fmt=\"d\", cmap=\"Reds\", cbar=False,\n",
    "            xticklabels=['Predicted 0', 'Predicted 1'],\n",
    "            yticklabels=['Actual 0', 'Actual 1'])\n",
    "\n",
    "plt.title('Confusion Matrix')\n",
    "plt.xlabel('Predicted label')\n",
    "plt.ylabel('True label')\n",
    "plt.show()"
   ]
  },
  {
   "cell_type": "code",
   "execution_count": 49,
   "metadata": {},
   "outputs": [
    {
     "data": {
      "text/plain": [
       "1.0"
      ]
     },
     "execution_count": 49,
     "metadata": {},
     "output_type": "execute_result"
    }
   ],
   "source": [
    "from sklearn.svm import SVC\n",
    "svm = SVC()\n",
    "svm.fit(x_train, y_train)\n",
    "y_pred = svm.predict(x_train)\n",
    "acc = accuracy_score(y_train, y_pred)\n",
    "acc"
   ]
  },
  {
   "cell_type": "code",
   "execution_count": null,
   "metadata": {},
   "outputs": [],
   "source": []
  },
  {
   "cell_type": "code",
   "execution_count": null,
   "metadata": {},
   "outputs": [],
   "source": []
  },
  {
   "cell_type": "code",
   "execution_count": 50,
   "metadata": {},
   "outputs": [
    {
     "data": {
      "image/png": "[encoded data removed]",
      "text/plain": [
       "<Figure size 1000x400 with 1 Axes>"
      ]
     },
     "metadata": {},
     "output_type": "display_data"
    }
   ],
   "source": [
    "algorithum=[\"DecisionTree\",\"CNN\",\"LDA\"]\n",
    "accuracy= [acc_dt_train*100,acc_cnn_train*100,acc_lda_train*100]\n",
    "plt.figure(figsize=(10,4))\n",
    "sns.barplot(x=algorithum,y=accuracy,color='red')\n",
    "plt.title(\"Training Accuyracy Graph\")\n",
    "plt.show()\n"
   ]
  },
  {
   "cell_type": "markdown",
   "metadata": {},
   "source": [
    "### **Prediction**"
   ]
  },
  {
   "cell_type": "code",
   "execution_count": 51,
   "metadata": {},
   "outputs": [
    {
     "name": "stdout",
     "output_type": "stream",
     "text": [
      "he is playing game continusly\n",
      "1/1 [==============================] - 0s 47ms/step\n",
      "[[0.760749]]\n"
     ]
    }
   ],
   "source": [
    "inp = \"he is playing game continusly\"\n",
    "\n",
    "def text_clean(Text): \n",
    "    # changing to lower case\n",
    "    lower = Text.lower()\n",
    "    # Replacing the repeating pattern of &#039;\n",
    "    pattern_remove = lower.replace(\"&#039;\", \"\")\n",
    "    # Removing all the special Characters\n",
    "    special_remove = pattern_remove.replace(r'[^\\w\\d\\s]',' ')\n",
    "    # Removing all the non ASCII characters\n",
    "    ascii_remove = special_remove.replace(r'[^\\x00-\\x7F]+',' ')    \n",
    "    # Removing the leading and trailing Whitespaces\n",
    "    whitespace_remove = ascii_remove.replace(r'^\\s+|\\s+?$','')    \n",
    "    # Replacing multiple Spaces with Single Space\n",
    "    multiw_remove = whitespace_remove.replace(r'\\s+',' ') \n",
    "    # Replacing Two or more dots with one\n",
    "    dataframe = multiw_remove.replace(r'\\.{2,}', ' ')\n",
    "    return dataframe\n",
    "inp = text_clean(inp)\n",
    "print(inp)\n",
    "hv = HashingVectorizer(n_features=500)\n",
    "inp1 = hv.fit_transform([inp]).toarray()\n",
    "res = model_cnn.predict(inp1)\n",
    "print(res)"
   ]
  },
  {
   "cell_type": "code",
   "execution_count": 52,
   "metadata": {},
   "outputs": [
    {
     "name": "stdout",
     "output_type": "stream",
     "text": [
      "reading the books\n",
      "1/1 [==============================] - 0s 46ms/step\n",
      "[[0.6150471]]\n"
     ]
    }
   ],
   "source": [
    "inp = \"Reading the books\"\n",
    "\n",
    "def text_clean(Text): \n",
    "    # changing to lower case\n",
    "    lower = Text.lower()\n",
    "    # Replacing the repeating pattern of &#039;\n",
    "    pattern_remove = lower.replace(\"&#039;\", \"\")\n",
    "    # Removing all the special Characters\n",
    "    special_remove = pattern_remove.replace(r'[^\\w\\d\\s]',' ')\n",
    "    # Removing all the non ASCII characters\n",
    "    ascii_remove = special_remove.replace(r'[^\\x00-\\x7F]+',' ')    \n",
    "    # Removing the leading and trailing Whitespaces\n",
    "    whitespace_remove = ascii_remove.replace(r'^\\s+|\\s+?$','')    \n",
    "    # Replacing multiple Spaces with Single Space\n",
    "    multiw_remove = whitespace_remove.replace(r'\\s+',' ') \n",
    "    # Replacing Two or more dots with one\n",
    "    dataframe = multiw_remove.replace(r'\\.{2,}', ' ')\n",
    "    return dataframe\n",
    "inp = text_clean(inp)\n",
    "print(inp)\n",
    "hv = HashingVectorizer(n_features=500)\n",
    "inp1 = hv.fit_transform([inp]).toarray()\n",
    "res = model_cnn.predict(inp1)\n",
    "print(res)"
   ]
  },
  {
   "cell_type": "code",
   "execution_count": null,
   "metadata": {},
   "outputs": [],
   "source": []
  },
  {
   "cell_type": "code",
   "execution_count": null,
   "metadata": {},
   "outputs": [],
   "source": []
  },
  {
   "cell_type": "code",
   "execution_count": null,
   "metadata": {},
   "outputs": [],
   "source": []
  },
  {
   "cell_type": "code",
   "execution_count": null,
   "metadata": {},
   "outputs": [],
   "source": []
  },
  {
   "cell_type": "code",
   "execution_count": null,
   "metadata": {},
   "outputs": [],
   "source": []
  },
  {
   "cell_type": "code",
   "execution_count": null,
   "metadata": {},
   "outputs": [],
   "source": []
  },
  {
   "cell_type": "code",
   "execution_count": null,
   "metadata": {},
   "outputs": [],
   "source": []
  },
  {
   "cell_type": "code",
   "execution_count": null,
   "metadata": {},
   "outputs": [],
   "source": []
  },
  {
   "cell_type": "code",
   "execution_count": null,
   "metadata": {},
   "outputs": [],
   "source": []
  },
  {
   "cell_type": "code",
   "execution_count": null,
   "metadata": {},
   "outputs": [],
   "source": []
  },
  {
   "cell_type": "code",
   "execution_count": null,
   "metadata": {},
   "outputs": [],
   "source": []
  },
  {
   "cell_type": "code",
   "execution_count": null,
   "metadata": {},
   "outputs": [],
   "source": []
  },
  {
   "cell_type": "code",
   "execution_count": null,
   "metadata": {},
   "outputs": [],
   "source": []
  },
  {
   "cell_type": "code",
   "execution_count": null,
   "metadata": {},
   "outputs": [],
   "source": []
  },
  {
   "cell_type": "code",
   "execution_count": null,
   "metadata": {},
   "outputs": [],
   "source": []
  },
  {
   "cell_type": "code",
   "execution_count": null,
   "metadata": {},
   "outputs": [],
   "source": []
  },
  {
   "cell_type": "code",
   "execution_count": null,
   "metadata": {},
   "outputs": [],
   "source": []
  },
  {
   "cell_type": "code",
   "execution_count": null,
   "metadata": {},
   "outputs": [],
   "source": []
  },
  {
   "cell_type": "code",
   "execution_count": null,
   "metadata": {},
   "outputs": [],
   "source": []
  },
  {
   "cell_type": "code",
   "execution_count": null,
   "metadata": {},
   "outputs": [],
   "source": []
  },
  {
   "cell_type": "code",
   "execution_count": null,
   "metadata": {},
   "outputs": [],
   "source": []
  },
  {
   "cell_type": "code",
   "execution_count": null,
   "metadata": {},
   "outputs": [],
   "source": []
  },
  {
   "cell_type": "code",
   "execution_count": null,
   "metadata": {},
   "outputs": [],
   "source": []
  },
  {
   "cell_type": "code",
   "execution_count": null,
   "metadata": {},
   "outputs": [],
   "source": []
  },
  {
   "cell_type": "code",
   "execution_count": null,
   "metadata": {},
   "outputs": [],
   "source": []
  },
  {
   "cell_type": "code",
   "execution_count": null,
   "metadata": {},
   "outputs": [],
   "source": []
  },
  {
   "cell_type": "code",
   "execution_count": null,
   "metadata": {},
   "outputs": [],
   "source": []
  },
  {
   "cell_type": "code",
   "execution_count": null,
   "metadata": {},
   "outputs": [],
   "source": []
  },
  {
   "cell_type": "code",
   "execution_count": null,
   "metadata": {},
   "outputs": [],
   "source": []
  },
  {
   "cell_type": "code",
   "execution_count": null,
   "metadata": {},
   "outputs": [],
   "source": []
  }
 ],
 "metadata": {
  "kernelspec": {
   "display_name": "Python 3",
   "language": "python",
   "name": "python3"
  },
  "language_info": {
   "codemirror_mode": {
    "name": "ipython",
    "version": 3
   },
   "file_extension": ".py",
   "mimetype": "text/x-python",
   "name": "python",
   "nbconvert_exporter": "python",
   "pygments_lexer": "ipython3",
   "version": "3.10.0"
  }
 },
 "nbformat": 4,
 "nbformat_minor": 2
}
